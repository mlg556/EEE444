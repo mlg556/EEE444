{
 "cells": [
  {
   "cell_type": "code",
   "execution_count": 1,
   "metadata": {},
   "outputs": [],
   "source": [
    "import sympy as sp\n",
    "import plotly.graph_objects as go\n",
    "import numpy as np\n",
    "\n",
    "from sympy import I as j"
   ]
  },
  {
   "cell_type": "code",
   "execution_count": 2,
   "metadata": {},
   "outputs": [],
   "source": [
    "w = sp.symbols('w', positive=True)\n",
    "B = sp.symbols('B', positive=True)"
   ]
  },
  {
   "cell_type": "code",
   "execution_count": 3,
   "metadata": {},
   "outputs": [],
   "source": [
    "a1, a2 = (0.04522613065326633, 0.06683417085427136)"
   ]
  },
  {
   "cell_type": "code",
   "execution_count": 4,
   "metadata": {},
   "outputs": [
    {
     "data": {
      "text/latex": [
       "$\\displaystyle \\frac{0.0452261306532663 i w}{\\left(0.0668341708542714 i w + 1\\right)^{2}}$"
      ],
      "text/plain": [
       "0.0452261306532663*I*w/(0.0668341708542714*I*w + 1)**2"
      ]
     },
     "execution_count": 4,
     "metadata": {},
     "output_type": "execute_result"
    }
   ],
   "source": [
    "W = a1*j*w / ((a2*j*w + 1)**2)\n",
    "W = sp.simplify(W)\n",
    "W"
   ]
  },
  {
   "cell_type": "code",
   "execution_count": 12,
   "metadata": {},
   "outputs": [
    {
     "data": {
      "text/latex": [
       "$\\displaystyle \\frac{0.0452261306532663 w}{\\sqrt{1.99523593594954 \\cdot 10^{-5} w^{4} + 0.00893361278755587 w^{2} + 1}}$"
      ],
      "text/plain": [
       "0.0452261306532663*w/sqrt(1.99523593594954e-5*w**4 + 0.00893361278755587*w**2 + 1)"
      ]
     },
     "execution_count": 12,
     "metadata": {},
     "output_type": "execute_result"
    }
   ],
   "source": []
  },
  {
   "cell_type": "code",
   "execution_count": 5,
   "metadata": {},
   "outputs": [
    {
     "data": {
      "text/latex": [
       "$\\displaystyle \\frac{15 w - i}{B w}$"
      ],
      "text/plain": [
       "(15*w - I)/(B*w)"
      ]
     },
     "execution_count": 5,
     "metadata": {},
     "output_type": "execute_result"
    }
   ],
   "source": [
    "C = (15*j*w + 1) / (B*j*w)\n",
    "C = sp.simplify(C)\n",
    "C"
   ]
  },
  {
   "cell_type": "code",
   "execution_count": 6,
   "metadata": {},
   "outputs": [
    {
     "data": {
      "text/latex": [
       "$\\displaystyle \\frac{1}{0.2 i w - 1}$"
      ],
      "text/plain": [
       "1/(0.2*I*w - 1)"
      ]
     },
     "execution_count": 6,
     "metadata": {},
     "output_type": "execute_result"
    }
   ],
   "source": [
    "P0 = 1 / (0.2*j*w - 1)\n",
    "P0 = sp.simplify(P0)\n",
    "P0"
   ]
  },
  {
   "cell_type": "code",
   "execution_count": 7,
   "metadata": {},
   "outputs": [
    {
     "data": {
      "text/latex": [
       "$\\displaystyle \\frac{B w \\left(0.2 i w - 1\\right)}{B w \\left(0.2 i w - 1\\right) + 15 w - i}$"
      ],
      "text/plain": [
       "B*w*(0.2*I*w - 1)/(B*w*(0.2*I*w - 1) + 15*w - I)"
      ]
     },
     "execution_count": 7,
     "metadata": {},
     "output_type": "execute_result"
    }
   ],
   "source": [
    "S = (1 + P0*C)**-1\n",
    "S = sp.simplify(S)\n",
    "S"
   ]
  },
  {
   "cell_type": "code",
   "execution_count": 8,
   "metadata": {},
   "outputs": [],
   "source": [
    "robust_condition = abs(W*C*S) # < 1 for all w "
   ]
  },
  {
   "cell_type": "code",
   "execution_count": 9,
   "metadata": {},
   "outputs": [],
   "source": [
    "robust_condition = sp.simplify(robust_condition)"
   ]
  },
  {
   "cell_type": "code",
   "execution_count": 10,
   "metadata": {},
   "outputs": [
    {
     "data": {
      "text/latex": [
       "$\\displaystyle \\frac{0.0452261306532663 w \\sqrt{9.0 w^{4} + 225.04 w^{2} + 1} \\sqrt{\\frac{1}{0.04 B^{2} w^{4} + B^{2} w^{2} - 30.4 B w^{2} + 225 w^{2} + 1}}}{\\sqrt{1.99523593594954 \\cdot 10^{-5} w^{4} + 0.00893361278755587 w^{2} + 1}}$"
      ],
      "text/plain": [
       "0.0452261306532663*w*sqrt(9.0*w**4 + 225.04*w**2 + 1)*sqrt(1/(0.04*B**2*w**4 + B**2*w**2 - 30.4*B*w**2 + 225*w**2 + 1))/sqrt(1.99523593594954e-5*w**4 + 0.00893361278755587*w**2 + 1)"
      ]
     },
     "execution_count": 10,
     "metadata": {},
     "output_type": "execute_result"
    }
   ],
   "source": [
    "robust_condition"
   ]
  },
  {
   "cell_type": "code",
   "execution_count": null,
   "metadata": {},
   "outputs": [],
   "source": [
    "rob = sp.lambdify([B, w], robust_condition)\n",
    "robv = np.vectorize(rob)"
   ]
  },
  {
   "cell_type": "code",
   "execution_count": null,
   "metadata": {},
   "outputs": [],
   "source": [
    "BETA = np.linspace(0, 15, 16)\n",
    "w = np.linspace(0, 10**3, 1000)\n",
    "\n",
    "fig = go.Figure()\n",
    "\n",
    "for b in BETA:\n",
    "    sys = robv(b, w)\n",
    "    fig.add_trace(\n",
    "        go.Scatter(x=w, y=sys, name=f'β = {b}')\n",
    ")\n",
    "\n",
    "fig.show()"
   ]
  },
  {
   "cell_type": "code",
   "execution_count": null,
   "metadata": {},
   "outputs": [],
   "source": [
    "def is_robust(sys):\n",
    "    arr = sys < 1\n",
    "    return np.all(arr)\n",
    "    "
   ]
  },
  {
   "cell_type": "code",
   "execution_count": null,
   "metadata": {},
   "outputs": [],
   "source": [
    "b = 4.261\n",
    "sys = robv(b, w)\n",
    "is_robust(sys)"
   ]
  },
  {
   "cell_type": "code",
   "execution_count": null,
   "metadata": {},
   "outputs": [],
   "source": [
    "# this means B < 15 and B >= 4.262 to be stable."
   ]
  },
  {
   "cell_type": "code",
   "execution_count": null,
   "metadata": {},
   "outputs": [],
   "source": []
  }
 ],
 "metadata": {
  "kernelspec": {
   "display_name": "Python 3",
   "language": "python",
   "name": "python3"
  },
  "language_info": {
   "codemirror_mode": {
    "name": "ipython",
    "version": 3
   },
   "file_extension": ".py",
   "mimetype": "text/x-python",
   "name": "python",
   "nbconvert_exporter": "python",
   "pygments_lexer": "ipython3",
   "version": "3.7.4"
  }
 },
 "nbformat": 4,
 "nbformat_minor": 4
}
