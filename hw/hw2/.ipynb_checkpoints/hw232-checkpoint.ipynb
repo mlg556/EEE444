{
 "cells": [
  {
   "cell_type": "code",
   "execution_count": 130,
   "metadata": {},
   "outputs": [
    {
     "name": "stdout",
     "output_type": "stream",
     "text": [
      "The ipydex.displaytools extension is already loaded. To reload it, use:\n",
      "  %reload_ext ipydex.displaytools\n"
     ]
    }
   ],
   "source": [
    "%load_ext ipydex.displaytools"
   ]
  },
  {
   "cell_type": "code",
   "execution_count": 131,
   "metadata": {},
   "outputs": [],
   "source": [
    "import sympy as sp\n",
    "\n",
    "from sympy import I as j\n",
    "from math import factorial as fact\n",
    "from routh import routh"
   ]
  },
  {
   "cell_type": "code",
   "execution_count": 132,
   "metadata": {},
   "outputs": [],
   "source": [
    "s, h, B = sp.symbols('s h B')"
   ]
  },
  {
   "cell_type": "code",
   "execution_count": 133,
   "metadata": {},
   "outputs": [
    {
     "data": {
      "text/latex": [
       "P0 := $\\displaystyle \\frac{1}{0.25 s - 1}$"
      ],
      "text/plain": [
       "P0 := 1/(0.25*s - 1)"
      ]
     },
     "metadata": {},
     "output_type": "display_data"
    },
    {
     "name": "stdout",
     "output_type": "stream",
     "text": [
      "---\n"
     ]
    }
   ],
   "source": [
    "P0 = 1 / (0.25*s - 1) ##:"
   ]
  },
  {
   "cell_type": "code",
   "execution_count": 134,
   "metadata": {},
   "outputs": [
    {
     "data": {
      "text/latex": [
       "P := $\\displaystyle \\frac{e^{- h s}}{0.25 s - 1}$"
      ],
      "text/plain": [
       "P := exp(-h*s)/(0.25*s - 1)"
      ]
     },
     "metadata": {},
     "output_type": "display_data"
    },
    {
     "name": "stdout",
     "output_type": "stream",
     "text": [
      "---\n"
     ]
    }
   ],
   "source": [
    "P = sp.exp(-h*s) * P0 ##:"
   ]
  },
  {
   "cell_type": "code",
   "execution_count": 135,
   "metadata": {},
   "outputs": [],
   "source": [
    "def pade_coeff(k, n):\n",
    "    return (sp.factorial(2*n-k) * sp.factorial(n)) / (sp.factorial(2*n)*sp.factorial(k)*sp.factorial(n-k))"
   ]
  },
  {
   "cell_type": "code",
   "execution_count": 136,
   "metadata": {},
   "outputs": [],
   "source": [
    "def pade_approx(s, n, h):\n",
    "    \n",
    "    k = sp.symbols('k')\n",
    "    \n",
    "    N = sp.Sum(((-1)**k) * (pade_coeff(k, n)) * (h**k) * (s**k), (k, 0, n)).doit()\n",
    "    D = sp.Sum((pade_coeff(k, n)) * (h**k) * (s**k), (k, 0, n)).doit()\n",
    "    \n",
    "    return N / D"
   ]
  },
  {
   "cell_type": "code",
   "execution_count": 137,
   "metadata": {},
   "outputs": [
    {
     "data": {
      "text/latex": [
       "routh_array := $\\displaystyle \\left[\\begin{matrix}3.64148451940312 \\cdot 10^{-26} & 8.51330851197038 \\cdot 10^{-20} & 2.83545747745511 \\cdot 10^{-14} & 2.63845814580706 \\cdot 10^{-9} & 6.45127422313955 \\cdot 10^{-5} & 0.141732456140351 & 0.222222222222222\\\\8.04525313153463 \\cdot 10^{-23} & 6.07958237746093 \\cdot 10^{-17} & 1.08562400350004 \\cdot 10^{-11} & 5.74573497162023 \\cdot 10^{-7} & 0.00694030214424951 & 2.32777777777778 & 0\\\\5.76153616248595 \\cdot 10^{-20} & 2.3440766671805 \\cdot 10^{-14} & 2.37839168662087 \\cdot 10^{-9} & 6.13713864026767 \\cdot 10^{-5} & 0.140678845196879 & 0.222222222222222 & 0\\\\2.80637717396288 \\cdot 10^{-17} & 7.53511826726918 \\cdot 10^{-12} & 4.8887615452316 \\cdot 10^{-7} & 0.00674386201301678 & 2.32746747268226 & 0 & 0\\\\7.97105120081748 \\cdot 10^{-15} & 1.37472130710277 \\cdot 10^{-9} & 4.7526132377914 \\cdot 10^{-5} & 0.135900518129768 & 0.222222222222222 & 0 & 0\\\\2.69512113311709 \\cdot 10^{-12} & 3.2155035305492 \\cdot 10^{-7} & 0.00626539549410897 & 2.32668509234586 & 0 & 0 & 0\\\\4.23708643387235 \\cdot 10^{-10} & 2.8995689473794 \\cdot 10^{-5} & 0.129019148023105 & 0.222222222222222 & 0 & 0 & 0\\\\1.37114900321653 \\cdot 10^{-7} & 0.00544473196071004 & 2.32527158375522 & 0 & 0 & 0 & 0\\\\1.21705305212096 \\cdot 10^{-5} & 0.121833658583602 & 0.222222222222222 & 0 & 0 & 0 & 0\\\\0.00407213691044493 & 2.32276799709594 & 0 & 0 & 0 & 0 & 0\\\\0.114891524901938 & 0.222222222222222 & 0 & 0 & 0 & 0 & 0\\\\2.31489170409517 & 0 & 0 & 0 & 0 & 0 & 0\\\\0.222222222222222 & 0 & 0 & 0 & 0 & 0 & 0\\end{matrix}\\right]$"
      ],
      "text/plain": [
       "routh_array := Matrix([\n",
       "[3.64148451940312e-26, 8.51330851197038e-20, 2.83545747745511e-14, 2.63845814580706e-9, 6.45127422313955e-5, 0.141732456140351, 0.222222222222222],\n",
       "[8.04525313153463e-23, 6.07958237746093e-17, 1.08562400350004e-11, 5.74573497162023e-7, 0.00694030214424951,  2.32777777777778,                 0],\n",
       "[5.76153616248595e-20,  2.3440766671805e-14,  2.37839168662087e-9, 6.13713864026767e-5,   0.140678845196879, 0.222222222222222,                 0],\n",
       "[2.80637717396288e-17, 7.53511826726918e-12,   4.8887615452316e-7, 0.00674386201301678,    2.32746747268226,                 0,                 0],\n",
       "[7.97105120081748e-15,  1.37472130710277e-9,   4.7526132377914e-5,   0.135900518129768,   0.222222222222222,                 0,                 0],\n",
       "[2.69512113311709e-12,   3.2155035305492e-7,  0.00626539549410897,    2.32668509234586,                   0,                 0,                 0],\n",
       "[4.23708643387235e-10,   2.8995689473794e-5,    0.129019148023105,   0.222222222222222,                   0,                 0,                 0],\n",
       "[ 1.37114900321653e-7,  0.00544473196071004,     2.32527158375522,                   0,                   0,                 0,                 0],\n",
       "[ 1.21705305212096e-5,    0.121833658583602,    0.222222222222222,                   0,                   0,                 0,                 0],\n",
       "[ 0.00407213691044493,     2.32276799709594,                    0,                   0,                   0,                 0,                 0],\n",
       "[   0.114891524901938,    0.222222222222222,                    0,                   0,                   0,                 0,                 0],\n",
       "[    2.31489170409517,                    0,                    0,                   0,                   0,                 0,                 0],\n",
       "[   0.222222222222222,                    0,                    0,                   0,                   0,                 0,                 0]])"
      ]
     },
     "metadata": {},
     "output_type": "display_data"
    },
    {
     "name": "stdout",
     "output_type": "stream",
     "text": [
      "---\n"
     ]
    }
   ],
   "source": [
    "P_approx = pade_approx(s=s, n=10, h=0.05) * P0\n",
    "C = (15*s + 1) / (4.5*s) # BETA = 4.5\n",
    "\n",
    "sys = P_approx*C / (1+P_approx*C)\n",
    "sys = sp.simplify(sys)\n",
    "\n",
    "sys_d = sys.as_numer_denom()[1]\n",
    "sys_poly = sp.Poly(sys_d, s)\n",
    "\n",
    "routh_array = routh(sys_poly) ##:"
   ]
  },
  {
   "cell_type": "code",
   "execution_count": null,
   "metadata": {},
   "outputs": [],
   "source": []
  }
 ],
 "metadata": {
  "kernelspec": {
   "display_name": "Python 3",
   "language": "python",
   "name": "python3"
  },
  "language_info": {
   "codemirror_mode": {
    "name": "ipython",
    "version": 3
   },
   "file_extension": ".py",
   "mimetype": "text/x-python",
   "name": "python",
   "nbconvert_exporter": "python",
   "pygments_lexer": "ipython3",
   "version": "3.7.4"
  }
 },
 "nbformat": 4,
 "nbformat_minor": 4
}
