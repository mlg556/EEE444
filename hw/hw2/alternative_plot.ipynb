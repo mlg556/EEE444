{
 "cells": [
  {
   "cell_type": "code",
   "execution_count": 1,
   "metadata": {},
   "outputs": [],
   "source": [
    "%load_ext ipydex.displaytools"
   ]
  },
  {
   "cell_type": "code",
   "execution_count": 2,
   "metadata": {},
   "outputs": [],
   "source": [
    "import sympy as sp\n",
    "import numpy as np\n",
    "import pandas as pd\n",
    "\n",
    "import matplotlib.pyplot as plt\n",
    "%matplotlib qt\n",
    "plt.style.use('ggplot')\n",
    "\n",
    "\n",
    "import mplcursors as mpl\n",
    "\n",
    "from sympy import I as j\n",
    "from sympy import latex\n"
   ]
  },
  {
   "cell_type": "code",
   "execution_count": 3,
   "metadata": {},
   "outputs": [],
   "source": [
    "s, w = sp.symbols('s, w')"
   ]
  },
  {
   "cell_type": "code",
   "execution_count": 4,
   "metadata": {},
   "outputs": [
    {
     "data": {
      "text/latex": [
       "P := $\\displaystyle \\frac{e^{- 0.05 s}}{0.25 s - 1}$"
      ],
      "text/plain": [
       "P := exp(-0.05*s)/(0.25*s - 1)"
      ]
     },
     "metadata": {},
     "output_type": "display_data"
    },
    {
     "name": "stdout",
     "output_type": "stream",
     "text": [
      "---\n"
     ]
    },
    {
     "data": {
      "text/latex": [
       "C := $\\displaystyle \\frac{0.222222222222222 \\left(15 s + 1\\right)}{s}$"
      ],
      "text/plain": [
       "C := 0.222222222222222*(15*s + 1)/s"
      ]
     },
     "metadata": {},
     "output_type": "display_data"
    },
    {
     "name": "stdout",
     "output_type": "stream",
     "text": [
      "---\n"
     ]
    }
   ],
   "source": [
    "P = sp.exp(-0.05*s) / (0.25*s - 1) ##:\n",
    "C = (15*s + 1) / (4.5*s) ##:"
   ]
  },
  {
   "cell_type": "code",
   "execution_count": 5,
   "metadata": {},
   "outputs": [
    {
     "data": {
      "text/latex": [
       "sys := $\\displaystyle \\frac{3.33333333333333 i w + 0.222222222222222}{i w \\left(0.25 i w - 1\\right) e^{0.05 i w} + 3.33333333333333 i w + 0.222222222222222}$"
      ],
      "text/plain": [
       "sys := (3.33333333333333*I*w + 0.222222222222222)/(I*w*(0.25*I*w - 1)*exp(0.05*I*w) + 3.33333333333333*I*w + 0.222222222222222)"
      ]
     },
     "metadata": {},
     "output_type": "display_data"
    },
    {
     "name": "stdout",
     "output_type": "stream",
     "text": [
      "---\n"
     ]
    }
   ],
   "source": [
    "sys = P*C / (1+P*C)\n",
    "sys = sp.simplify(sys)\n",
    "sys = sys.subs(s, j*w) ##:\n",
    "sys = sp.lambdify(w, sys)\n",
    "sysv = np.vectorize(sys)"
   ]
  },
  {
   "cell_type": "code",
   "execution_count": 6,
   "metadata": {},
   "outputs": [],
   "source": [
    "w = np.linspace(0, 10**2, 1000)\n",
    "\n",
    "sys_db = 20*np.log10(np.abs(sysv(w)))\n",
    "sys_phase = np.rad2deg(np.unwrap(np.angle(sysv(w))))"
   ]
  },
  {
   "cell_type": "code",
   "execution_count": 9,
   "metadata": {},
   "outputs": [
    {
     "data": {
      "text/plain": [
       "<function __main__.labeler(sel)>"
      ]
     },
     "execution_count": 9,
     "metadata": {},
     "output_type": "execute_result"
    }
   ],
   "source": [
    "plt.subplot(2, 1, 1)\n",
    "plt.plot(w, sys_db)\n",
    "plt.xlabel('$\\omega$')\n",
    "plt.ylabel('Magnitude(dB)')\n",
    "plt.title('Magnitude Bode Plot')\n",
    "plt.semilogx()\n",
    "\n",
    "plt.subplot(2, 1, 2)\n",
    "plt.plot(w, sys_phase)\n",
    "plt.xlabel('$\\omega$')\n",
    "plt.ylabel('Phase(deg)')\n",
    "plt.title('Phase Bode Plot')\n",
    "plt.semilogx()\n",
    "\n",
    "\n",
    "def labeler(sel):\n",
    "    default = sel.annotation.get_text()\n",
    "    x_coord = default.split('\\n')[0][2:]\n",
    "    y_coord = default.split('\\n')[1][2:]\n",
    "    \n",
    "    sel.annotation.set_text(\n",
    "        f'H = {y_coord}\\nw = {x_coord}'\n",
    "        \n",
    "    )\n",
    "    \n",
    "mpl.cursor(multiple=True).connect(\n",
    "    \"add\", labeler)\n",
    "\n",
    "    \n"
   ]
  },
  {
   "cell_type": "code",
   "execution_count": 8,
   "metadata": {},
   "outputs": [],
   "source": [
    "%matplotlib qt\n"
   ]
  },
  {
   "cell_type": "code",
   "execution_count": 10,
   "metadata": {},
   "outputs": [],
   "source": [
    "plt.savefig('foo.pdf')"
   ]
  },
  {
   "cell_type": "code",
   "execution_count": null,
   "metadata": {},
   "outputs": [],
   "source": []
  }
 ],
 "metadata": {
  "kernelspec": {
   "display_name": "Python 3",
   "language": "python",
   "name": "python3"
  },
  "language_info": {
   "codemirror_mode": {
    "name": "ipython",
    "version": 3
   },
   "file_extension": ".py",
   "mimetype": "text/x-python",
   "name": "python",
   "nbconvert_exporter": "python",
   "pygments_lexer": "ipython3",
   "version": "3.7.4"
  }
 },
 "nbformat": 4,
 "nbformat_minor": 4
}
