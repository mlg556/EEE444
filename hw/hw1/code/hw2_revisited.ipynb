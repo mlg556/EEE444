{
 "cells": [
  {
   "cell_type": "code",
   "execution_count": 9,
   "metadata": {},
   "outputs": [],
   "source": [
    "import numpy as np\n",
    "import matplotlib.pyplot as plt\n",
    "import sympy as sp\n",
    "%matplotlib widget"
   ]
  },
  {
   "cell_type": "code",
   "execution_count": 12,
   "metadata": {},
   "outputs": [
    {
     "data": {
      "text/plain": [
       "[(0.0307546160298229, 0.0528665696308107)]"
      ]
     },
     "execution_count": 12,
     "metadata": {},
     "output_type": "execute_result"
    }
   ],
   "source": [
    "W0 = 3\n",
    "Y0 = 0.09\n",
    "\n",
    "a1, a2, w = sp.symbols('a_1 a_2 w', positive=True)\n",
    "Wa = a1*1j*w / ((a2*1j*w + 1)**2)\n",
    "Wa0 = Wa.subs(w, W0)\n",
    "eq0 = sp.simplify(abs(Wa0)) - Y0\n",
    "Wa1 = Wa.subs(w,1000)\n",
    "eq1 = sp.simplify(abs(Wa1)) - 0.011\n",
    "sol = sp.solve([eq0, eq1], a1, a2)\n",
    "sol"
   ]
  },
  {
   "cell_type": "code",
   "execution_count": null,
   "metadata": {},
   "outputs": [
    {
     "data": {
      "application/vnd.jupyter.widget-view+json": {
       "model_id": "4487bd48caf449419c4261a9fa200d3d",
       "version_major": 2,
       "version_minor": 0
      },
      "text/plain": [
       "Canvas(toolbar=Toolbar(toolitems=[('Home', 'Reset original view', 'home', 'home'), ('Back', 'Back to previous …"
      ]
     },
     "metadata": {},
     "output_type": "display_data"
    }
   ],
   "source": [
    "a1, a2 = sol[0]\n",
    "w = np.linspace(10**-2, 10**3, 10000)\n",
    "taus = np.linspace(0.2, 0.25, 10)\n",
    "hs = np.linspace(0.01, 0.005, 10)\n",
    "deltas = [(np.exp(-h*1j*w) / (1j*w*tau-1)) - (5 / (1j*w-5)) for tau in taus for h in hs]\n",
    "\n",
    "Wa = (a1*1j*w) / ((a2*1j*w+1)**2)\n",
    "\n",
    "plt.close('deltas')\n",
    "plt.figure('deltas')\n",
    "\n",
    "for delta in deltas:\n",
    "    plt.plot(w, abs(delta), linewidth=0.5)\n",
    "    \n",
    "plt.plot(w, abs(Wa))\n",
    "plt.grid()\n",
    "plt.show()"
   ]
  },
  {
   "cell_type": "code",
   "execution_count": null,
   "metadata": {},
   "outputs": [],
   "source": []
  }
 ],
 "metadata": {
  "kernelspec": {
   "display_name": "Python 3",
   "language": "python",
   "name": "python3"
  },
  "language_info": {
   "codemirror_mode": {
    "name": "ipython",
    "version": 3
   },
   "file_extension": ".py",
   "mimetype": "text/x-python",
   "name": "python",
   "nbconvert_exporter": "python",
   "pygments_lexer": "ipython3",
   "version": "3.7.4"
  }
 },
 "nbformat": 4,
 "nbformat_minor": 4
}
