{
 "cells": [
  {
   "cell_type": "code",
   "execution_count": 2,
   "metadata": {},
   "outputs": [],
   "source": [
    "import sympy as sp\n",
    "from itertools import chain\n",
    "from routh import routh"
   ]
  },
  {
   "cell_type": "code",
   "execution_count": 3,
   "metadata": {},
   "outputs": [],
   "source": [
    "def kh_gen(n):\n",
    "    kh = [[0, 0, 1, 1], [1, 1, 0, 0], [0, 1, 1, 0], [1, 0, 0, 1]]\n",
    "    out = [[],[],[],[]]\n",
    "\n",
    "    w, r = divmod(n, 4)\n",
    "        \n",
    "    for j in range(4):\n",
    "        for i in range(w):\n",
    "            out[j] = out[j] + kh[j]\n",
    "        for i in range(r):\n",
    "            out[j].append(kh[j][i])\n",
    "    return out\n"
   ]
  },
  {
   "cell_type": "code",
   "execution_count": 4,
   "metadata": {},
   "outputs": [],
   "source": [
    "q = list(sp.symbols('q_0:2'))\n",
    "r = sp.symbols('r_0:7')\n",
    "s = sp.symbols('s')\n",
    "K = sp.symbols('K', positive=True)\n",
    "delta = sp.symbols('\\delta')\n",
    "q = [sp.symbols((str(e)+'^-', str(e)+'^+')) for e in q]\n",
    "r = [sp.symbols((str(e)+'^-', str(e)+'^+')) for e in r]\n",
    "\n",
    "qv = [[0.95, 1], [0.35, 0.4]]\n",
    "rv = [[0.9, 1], [9, 12], [50, 100], [120, 150], [195, 200], [120, 130], [-delta, delta]]\n",
    "\n",
    "\n",
    "N_kh = kh_gen(2)\n",
    "N = [[q[1-x][N_kh[i][x]]*s**x for x in range(2)]for i in range(4)]\n",
    "N = [[sum(n)] for n in N]\n",
    "\n",
    "D_kh = kh_gen(7)\n",
    "D = [[r[6-x][D_kh[i][x]]*s**x for x in range(7)]for i in range(4)]\n",
    "D = [[sum(d)] for d in D]\n",
    "\n",
    "NC = K - 4*s\n",
    "DC = s\n",
    "\n",
    "e = []\n",
    "for i in range(4):\n",
    "    for j in range(4):\n",
    "        e.append(NC*N[i][0] + DC*D[j][0])\n",
    "        \n",
    "e = [ sp.Poly(sp.collect(sp.expand(elem), s), s) for elem in e]\n"
   ]
  },
  {
   "cell_type": "code",
   "execution_count": 5,
   "metadata": {},
   "outputs": [],
   "source": [
    "# substitute numeric values\n",
    "for x in range(16):\n",
    "    for i in range(len(qv)):\n",
    "        for sign in range(2):\n",
    "            e[x] = e[x].subs(q[i][sign], qv[i][sign])\n",
    "    for i in range(len(rv)):\n",
    "        for sign in range(2):\n",
    "            e[x] = e[x].subs(r[i][sign], rv[i][sign])\n",
    "            \n",
    "e = [sp.Poly(expr, s) for expr in e]\n",
    "rouths = [routh(poly) for poly in e]\n",
    "rouths = [sp.simplify(routh.evalf(2)) for routh in rouths]"
   ]
  },
  {
   "cell_type": "code",
   "execution_count": 5,
   "metadata": {},
   "outputs": [],
   "source": [
    "# -- CHANGE DELTA"
   ]
  },
  {
   "cell_type": "code",
   "execution_count": 44,
   "metadata": {},
   "outputs": [
    {
     "name": "stdout",
     "output_type": "stream",
     "text": [
      "((K < 159.440845681111) && ((159.726006214705 < K) || ((4.12305239864784 < K) && (K < 63.0076685375385)))) && ((K < 160.995385671333) && ((161.099825160286 < K) || ((3.43982172031094 < K) && (K < 94.8836120527896)))) && ((K < 221.487017807683) && ((221.310319589294 < K) || ((3.57350370970667 < K) && (K < 100.214462432681)))) && ((K < 135.682700602375) && ((135.684187560096 < K) || ((3.91943224425159 < K) && (K < 65.8935320218397)))) && ((K < 153.538246390079) && ((153.74058396722 < K) || ((5.40337084334246 < K) && (K < 50.6649631009945)))) && ((K < 162.52736191161) && ((162.232754211048 < K) || ((4.24587759454781 < K) && (K < 86.0962388459386)))) && ((K < 214.369314412729) && ((214.332622648937 < K) || ((4.46342812876657 < K) && (K < 84.9735036924056)))) && ((K < 133.198861240069) && ((133.364847121222 < K) || ((5.02923642728963 < K) && (K < 56.053456041102))))\n",
      "\n",
      "((K < 149.997946459461) && ((150.261036323054 < K) || ((3.59174807895023 < K) && (K < 64.3490522809378)))) && ((K < 148.036440637635) && ((148.308283567537 < K) || ((3.06660447229841 < K) && (K < 91.7147286252175)))) && ((K < 207.870099575144) && ((207.870099575144 < K) || ((3.17268102361797 < K) && (K < 100.361808801832)))) && ((K < 126.42560765743) && ((126.583679334508 < K) || ((3.44131040348518 < K) && (K < 65.5667874942121)))) && ((K < 163.199226811341) && ((163.199226811341 < K) || ((6.5397847424853 < K) && (K < 47.1072946699975)))) && ((K < 177.302980799855) && ((177.302980799855 < K) || ((4.88469709405571 < K) && (K < 87.5444769862613)))) && ((K < 229.312503945179) && ((229.267785997918 < K) || ((5.18627495897081 < K) && (K < 82.5447381653632)))) && ((K < 143.637060689284) && ((143.637060689284 < K) || ((5.98521223603791 < K) && (K < 54.2044889117142))))\n"
     ]
    }
   ],
   "source": [
    "DELTA = 0\n",
    "\n",
    "rouths_delta = [routh.subs(delta, DELTA) for routh in rouths]\n",
    "rngs = [sp.solve([l > 0 for l in rr[:, 0]], K) for rr in rouths_delta]\n",
    "rngs_wf = [str(rng).replace(\"&\", \"&&\") for rng in rngs]\n",
    "rngs_wf = [str(rng).replace(\"|\", \"||\") for rng in rngs_wf]\n",
    "rngs_wf = [f'({rng})' for rng in rngs_wf]\n",
    "rngs_wf_appnd = ' && '.join(rngs_wf)\n",
    "rngs_p1 = rngs[:8]\n",
    "rngs_p2 = rngs[8:]\n",
    "\n",
    "rngs_wf_p1 = [str(rng).replace(\"&\", \"&&\") for rng in rngs_p1]\n",
    "rngs_wf_p1 = [str(rng).replace(\"|\", \"||\") for rng in rngs_wf_p1]\n",
    "\n",
    "rngs_wf_p2 = [str(rng).replace(\"&\", \"&&\") for rng in rngs_p2]\n",
    "rngs_wf_p2 = [str(rng).replace(\"|\", \"||\") for rng in rngs_wf_p2]\n",
    "\n",
    "\n",
    "rngs_wf_p1 = [f'({rng})' for rng in rngs_wf_p1]\n",
    "rngs_wf_p2 = [f'({rng})' for rng in rngs_wf_p2]\n",
    "\n",
    "rngs_wf_p1 = ' && '.join(rngs_wf_p1)\n",
    "rngs_wf_p2 = ' && '.join(rngs_wf_p2)\n",
    "\n",
    "print(rngs_wf_p1)\n",
    "print()\n",
    "print(rngs_wf_p2)"
   ]
  },
  {
   "cell_type": "code",
   "execution_count": null,
   "metadata": {},
   "outputs": [],
   "source": [
    "# by calling reduce on this on Mathematica:\n",
    "\n",
    "# DELTA = 0\n",
    "# 6.53978 < K < 47.1073\n",
    "\n",
    "# DELTA = 5\n",
    "# no solution\n",
    "\n",
    "# DELTA = 2.5\n",
    "# 20.5856 < K < 39.083\n",
    "\n",
    "# DELTA = 3\n",
    "# 25.9814 < K < 34.8391\n",
    "\n",
    "# DELTA = 3.3\n",
    "# no solution\n",
    "\n",
    "# DELTA = 3.1\n",
    "# 27.8532 < K < 33.2605\n",
    "\n",
    "# DELTA = 3.2\n",
    "# no solution\n",
    "\n",
    "# DELTA = 3.15\n",
    "# 29.7281 < K < 31.5061\n",
    "\n",
    "# DELTA = 3.175\n",
    "# no sol\n",
    "\n",
    "# DELTA = 3.1625\n",
    "# no sol\n",
    "\n",
    "# DELTA = 3.15625\n",
    "# no sol\n",
    "\n",
    "# DELTA = 3.153125\n",
    "# 30.0021 < K < 31.2396\n",
    "\n",
    "# DELTA = 3.1546875\n",
    "# 30.1995 < K < 31.0459\n",
    "\n",
    "# DELTA = 3.15546875\n",
    "# 30.3458 < K < 30.9016\n",
    "\n",
    "# DELTA = 3.155859375\n",
    "# 30.462 < K < 30.7863\n",
    "\n",
    "# DELTA = 3.1560546875 -- MAX DELTA\n",
    "# 30.5957 < K < 30.653\n",
    "\n",
    "# DELTA = 3.15615234375\n",
    "# no solution\n",
    "\n",
    "\n",
    "\n",
    "\n"
   ]
  },
  {
   "cell_type": "code",
   "execution_count": 45,
   "metadata": {},
   "outputs": [
    {
     "data": {
      "text/plain": [
       "'\\\\left[\\\\begin{matrix}1.0 & 50.0 & 2.0 \\\\cdot 10^{2} & 0.95 K - 1.0 \\\\delta - 1.4\\\\\\\\9.0 & 1.5 \\\\cdot 10^{2} & 1.2 \\\\cdot 10^{2} & 0.35 K\\\\\\\\33.0 & 1.9 \\\\cdot 10^{2} & 0.91 K - 1.0 \\\\delta - 1.4 & 0\\\\\\\\1.0 \\\\cdot 10^{2} & - 0.25 K + 0.27 \\\\delta + 1.2 \\\\cdot 10^{2} & 0.35 K & 0\\\\\\\\0.082 K - 0.09 \\\\delta + 1.5 \\\\cdot 10^{2} & 0.79 K - 1.0 \\\\delta - 1.4 & 0 & 0\\\\\\\\\\\\frac{- 79.0 K + 1.0 \\\\cdot 10^{2} \\\\delta + \\\\left(- 0.25 K + 0.27 \\\\delta + 1.2 \\\\cdot 10^{2}\\\\right) \\\\left(0.082 K - 0.09 \\\\delta + 1.5 \\\\cdot 10^{2}\\\\right) + 1.4 \\\\cdot 10^{2}}{0.082 K - 0.09 \\\\delta + 1.5 \\\\cdot 10^{2}} & 0.35 K & 0 & 0\\\\\\\\\\\\frac{0.018 K^{3} - 0.061 K^{2} \\\\delta + 93.0 K^{2} + 0.067 K \\\\delta^{2} - 2.2 \\\\cdot 10^{2} K \\\\delta - 6.3 \\\\cdot 10^{3} K - 0.024 \\\\delta^{3} + 1.3 \\\\cdot 10^{2} \\\\delta^{2} + 1.8 \\\\cdot 10^{4} \\\\delta + 2.4 \\\\cdot 10^{4}}{0.02 K^{2} - 0.044 K \\\\delta + 1.1 \\\\cdot 10^{2} K + 0.024 \\\\delta^{2} - 1.3 \\\\cdot 10^{2} \\\\delta - 1.7 \\\\cdot 10^{4}} & 0 & 0 & 0\\\\\\\\0.35 K & 0 & 0 & 0\\\\end{matrix}\\\\right]'"
      ]
     },
     "execution_count": 45,
     "metadata": {},
     "output_type": "execute_result"
    }
   ],
   "source": [
    "sp.latex(rouths[0])"
   ]
  },
  {
   "cell_type": "code",
   "execution_count": 33,
   "metadata": {},
   "outputs": [
    {
     "data": {
      "text/plain": [
       "'r^{-}_{0} s^{6} + r^{-}_{1} s^{5} + r^{+}_{2} s^{4} + r^{+}_{3} s^{3} + r^{-}_{4} s^{2} + r^{-}_{5} s + r^{+}_{6}'"
      ]
     },
     "execution_count": 33,
     "metadata": {},
     "output_type": "execute_result"
    }
   ],
   "source": [
    "sp.latex(D[3][0])"
   ]
  },
  {
   "cell_type": "code",
   "execution_count": 29,
   "metadata": {},
   "outputs": [
    {
     "data": {
      "text/plain": [
       "'q^{-}_{0} s + q^{+}_{1}'"
      ]
     },
     "execution_count": 29,
     "metadata": {},
     "output_type": "execute_result"
    }
   ],
   "source": [
    "sp.latex(N[3][0])"
   ]
  },
  {
   "cell_type": "code",
   "execution_count": 39,
   "metadata": {},
   "outputs": [
    {
     "data": {
      "text/plain": [
       "'\\\\operatorname{Poly}{\\\\left( 1.0 s^{7} + 9.0 s^{6} + 50.0 s^{5} + 150.0 s^{4} + 200.0 s^{3} + 116.2 s^{2} + \\\\left(0.95 K - 1.0 \\\\delta - 1.4\\\\right) s + 0.35 K, s, domain=\\\\mathbb{R}\\\\left[K, \\\\delta\\\\right] \\\\right)}'"
      ]
     },
     "execution_count": 39,
     "metadata": {},
     "output_type": "execute_result"
    }
   ],
   "source": [
    "sp.latex(e[0])"
   ]
  },
  {
   "cell_type": "code",
   "execution_count": null,
   "metadata": {},
   "outputs": [],
   "source": []
  }
 ],
 "metadata": {
  "kernelspec": {
   "display_name": "Python 3",
   "language": "python",
   "name": "python3"
  },
  "language_info": {
   "codemirror_mode": {
    "name": "ipython",
    "version": 3
   },
   "file_extension": ".py",
   "mimetype": "text/x-python",
   "name": "python",
   "nbconvert_exporter": "python",
   "pygments_lexer": "ipython3",
   "version": "3.7.4"
  }
 },
 "nbformat": 4,
 "nbformat_minor": 4
}
