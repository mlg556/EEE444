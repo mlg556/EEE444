{
 "cells": [
  {
   "cell_type": "code",
   "execution_count": 1,
   "metadata": {},
   "outputs": [],
   "source": [
    "import sympy as sp\n",
    "from itertools import chain\n",
    "from routh import routh"
   ]
  },
  {
   "cell_type": "code",
   "execution_count": 2,
   "metadata": {},
   "outputs": [],
   "source": [
    "def kh_gen(n):\n",
    "    kh = [[0, 0, 1, 1], [1, 1, 0, 0], [0, 1, 1, 0], [1, 0, 0, 1]]\n",
    "    out = [[],[],[],[]]\n",
    "\n",
    "    w, r = divmod(n, 4)\n",
    "        \n",
    "    for j in range(4):\n",
    "        for i in range(w):\n",
    "            out[j] = out[j] + kh[j]\n",
    "        for i in range(r):\n",
    "            out[j].append(kh[j][i])\n",
    "    return out\n"
   ]
  },
  {
   "cell_type": "code",
   "execution_count": 3,
   "metadata": {},
   "outputs": [],
   "source": [
    "q = list(sp.symbols('q_0:2'))\n",
    "r = sp.symbols('r_0:7')\n",
    "s = sp.symbols('s')\n",
    "K = sp.symbols('K', positive=True)\n",
    "delta = sp.symbols('\\delta')\n",
    "q = [sp.symbols((str(e)+'^-', str(e)+'^+')) for e in q]\n",
    "r = [sp.symbols((str(e)+'^-', str(e)+'^+')) for e in r]\n",
    "\n",
    "qv = [[0.95, 1], [0.35, 0.4]]\n",
    "rv = [[0.9, 1], [9, 12], [50, 100], [120, 150], [195, 200], [120, 130], [-delta, delta]]\n",
    "\n",
    "\n",
    "N_kh = kh_gen(2)\n",
    "N = [[q[1-x][N_kh[i][x]]*s**x for x in range(2)]for i in range(4)]\n",
    "N = [[sum(n)] for n in N]\n",
    "\n",
    "D_kh = kh_gen(7)\n",
    "D = [[r[6-x][D_kh[i][x]]*s**x for x in range(7)]for i in range(4)]\n",
    "D = [[sum(d)] for d in D]\n",
    "\n",
    "NC = K - 4*s\n",
    "DC = s\n",
    "\n",
    "e = []\n",
    "for i in range(4):\n",
    "    for j in range(4):\n",
    "        e.append(NC*N[i][0] + DC*D[j][0])\n",
    "        \n",
    "e = [ sp.Poly(sp.collect(sp.expand(elem), s), s) for elem in e]\n"
   ]
  },
  {
   "cell_type": "code",
   "execution_count": 4,
   "metadata": {},
   "outputs": [],
   "source": [
    "# substitute numeric values\n",
    "for x in range(16):\n",
    "    for i in range(len(qv)):\n",
    "        for sign in range(2):\n",
    "            e[x] = e[x].subs(q[i][sign], qv[i][sign])\n",
    "    for i in range(len(rv)):\n",
    "        for sign in range(2):\n",
    "            e[x] = e[x].subs(r[i][sign], rv[i][sign])\n",
    "            \n",
    "e = [sp.Poly(expr, s) for expr in e]\n",
    "rouths = [routh(poly) for poly in e]\n",
    "rouths = [sp.simplify(routh.evalf(2)) for routh in rouths]"
   ]
  },
  {
   "cell_type": "code",
   "execution_count": 5,
   "metadata": {},
   "outputs": [],
   "source": [
    "# -- CHANGE DELTA"
   ]
  },
  {
   "cell_type": "code",
   "execution_count": 26,
   "metadata": {},
   "outputs": [
    {
     "name": "stdout",
     "output_type": "stream",
     "text": [
      "((K < 163.387316514939) && ((163.553837186986 < K) || ((14.3662056733047 < K) && (K < 60.2427816043154)))) && ((K < 155.675800646369) && ((155.614758855657 < K) || (K < 92.7849151061073))) && ((K < 225.519006354257) && ((225.426984109408 < K) || ((11.9333934543155 < K) && (K < 99.497587839079)))) && ((K < 131.136210274462) && ((131.042153252989 < K) || (K < 65.8093266360852))) && ((K < 157.14769199075) && ((157.323656237427 < K) || ((18.7044150515627 < K) && (K < 44.540034455277)))) && ((K < 156.966166413211) && ((156.799666900988 < K) || (K < 84.8884966998426))) && ((K < 218.436996427264) && ((218.382439460332 < K) || ((13.835108499847 < K) && (K < 82.9803981944342)))) && ((K < 128.704129402806) && ((128.882737646574 < K) || (K < 57.1206997678247)))\n",
      "\n",
      "((K < 153.750733909364) && ((153.868610589791 < K) || ((12.289680891531 < K) && (K < 62.7126627101207)))) && ((K < 143.343673101087) && ((143.501779043362 < K) || (K < 89.5178719535284))) && ((K < 211.537262014206) && ((211.50522124896 < K) || ((10.5266394055762 < K) && (K < 100.121619251657)))) && ((K < 122.225819278154) && ((122.349798629723 < K) || (K < 65.0373538078283))) && ((167.148048300866 < K) && (K < 167.265578656224)) && ((K < 171.36612579377) && ((171.319289603087 < K) || (K < 86.9541042954847))) && ((K < 233.29303945818) && ((233.238167467163 < K) || ((16.3623588284802 < K) && (K < 79.1790579168982)))) && ((K < 138.611986287664) && ((138.729976396187 < K) || (K < 56.4413517013463)))\n"
     ]
    }
   ],
   "source": [
    "DELTA = 3.15615234375\n",
    "\n",
    "rouths_delta = [routh.subs(delta, DELTA) for routh in rouths]\n",
    "rngs = [sp.solve([l > 0 for l in rr[:, 0]], K) for rr in rouths_delta]\n",
    "rngs_wf = [str(rng).replace(\"&\", \"&&\") for rng in rngs]\n",
    "rngs_wf = [str(rng).replace(\"|\", \"||\") for rng in rngs_wf]\n",
    "rngs_wf = [f'({rng})' for rng in rngs_wf]\n",
    "rngs_wf_appnd = ' && '.join(rngs_wf)\n",
    "rngs_p1 = rngs[:8]\n",
    "rngs_p2 = rngs[8:]\n",
    "\n",
    "rngs_wf_p1 = [str(rng).replace(\"&\", \"&&\") for rng in rngs_p1]\n",
    "rngs_wf_p1 = [str(rng).replace(\"|\", \"||\") for rng in rngs_wf_p1]\n",
    "\n",
    "rngs_wf_p2 = [str(rng).replace(\"&\", \"&&\") for rng in rngs_p2]\n",
    "rngs_wf_p2 = [str(rng).replace(\"|\", \"||\") for rng in rngs_wf_p2]\n",
    "\n",
    "\n",
    "rngs_wf_p1 = [f'({rng})' for rng in rngs_wf_p1]\n",
    "rngs_wf_p2 = [f'({rng})' for rng in rngs_wf_p2]\n",
    "\n",
    "rngs_wf_p1 = ' && '.join(rngs_wf_p1)\n",
    "rngs_wf_p2 = ' && '.join(rngs_wf_p2)\n",
    "\n",
    "print(rngs_wf_p1)\n",
    "print()\n",
    "print(rngs_wf_p2)"
   ]
  },
  {
   "cell_type": "code",
   "execution_count": null,
   "metadata": {},
   "outputs": [],
   "source": [
    "# by calling reduce on this on Mathematica:\n",
    "\n",
    "# DELTA = 0\n",
    "# 6.53978 < K < 47.1073\n",
    "\n",
    "# DELTA = 5\n",
    "# no solution\n",
    "\n",
    "# DELTA = 2.5\n",
    "# 20.5856 < K < 39.083\n",
    "\n",
    "# DELTA = 3\n",
    "# 25.9814 < K < 34.8391\n",
    "\n",
    "# DELTA = 3.3\n",
    "# no solution\n",
    "\n",
    "# DELTA = 3.1\n",
    "# 27.8532 < K < 33.2605\n",
    "\n",
    "# DELTA = 3.2\n",
    "# no solution\n",
    "\n",
    "# DELTA = 3.15\n",
    "# 29.7281 < K < 31.5061\n",
    "\n",
    "# DELTA = 3.175\n",
    "# no sol\n",
    "\n",
    "# DELTA = 3.1625\n",
    "# no sol\n",
    "\n",
    "# DELTA = 3.15625\n",
    "# no sol\n",
    "\n",
    "# DELTA = 3.153125\n",
    "# 30.0021 < K < 31.2396\n",
    "\n",
    "# DELTA = 3.1546875\n",
    "# 30.1995 < K < 31.0459\n",
    "\n",
    "# DELTA = 3.15546875\n",
    "# 30.3458 < K < 30.9016\n",
    "\n",
    "# DELTA = 3.155859375\n",
    "# 30.462 < K < 30.7863\n",
    "\n",
    "# DELTA = 3.1560546875 -- MAX DELTA\n",
    "# 30.5957 < K < 30.653\n",
    "\n",
    "# DELTA = 3.15615234375\n",
    "# no solution\n",
    "\n",
    "\n",
    "\n",
    "\n"
   ]
  },
  {
   "cell_type": "code",
   "execution_count": 25,
   "metadata": {},
   "outputs": [
    {
     "data": {
      "text/plain": [
       "3.15615234375"
      ]
     },
     "execution_count": 25,
     "metadata": {},
     "output_type": "execute_result"
    }
   ],
   "source": [
    "(3.15625 + 3.1560546875) / 2"
   ]
  },
  {
   "cell_type": "code",
   "execution_count": null,
   "metadata": {},
   "outputs": [],
   "source": []
  }
 ],
 "metadata": {
  "kernelspec": {
   "display_name": "Python 3",
   "language": "python",
   "name": "python3"
  },
  "language_info": {
   "codemirror_mode": {
    "name": "ipython",
    "version": 3
   },
   "file_extension": ".py",
   "mimetype": "text/x-python",
   "name": "python",
   "nbconvert_exporter": "python",
   "pygments_lexer": "ipython3",
   "version": "3.7.4"
  }
 },
 "nbformat": 4,
 "nbformat_minor": 4
}
