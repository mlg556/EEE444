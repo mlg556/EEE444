{
 "cells": [
  {
   "cell_type": "markdown",
   "metadata": {
    "Collapsed": "false"
   },
   "source": [
    "# PART A"
   ]
  },
  {
   "cell_type": "markdown",
   "metadata": {
    "Collapsed": "false"
   },
   "source": [
    "From Part 1 we have:\n",
    "$$\n",
    "\\begin{gathered}\n",
    "N(s) = \\frac{4 \\left(s - 2\\right)}{s^{2} + 2 s + 1}, \\quad D(s) = \\frac{s^{2} - 2 s + 2}{s^{2} + 2 s + 1} \\\\\n",
    "X(s) = \\frac{2.75 - 1.625 s}{s + 1}, \\quad Y(s) = \\frac{s + 11.5}{s + 1}\n",
    "\\end{gathered}\n",
    "$$\n",
    "\n",
    "We know that the robust stability condition requires:\n",
    "$$\n",
    "|| W_m T||_{\\infty} \\leq 1\n",
    "$$\n",
    "\n",
    "where $W_m$ is the multiplicative uncertainity bound and $T$ is the complementary sensitivity function. It is given that $W_m = \\delta (s+1)$. We also know that $T = N(X + DQ)$. Thus the robust stability condition becomes:\n",
    "\n",
    "$$\n",
    "|| \\delta (s+1) N (X + DQ_c) || _{\\infty} \\leq 1\n",
    "$$\n"
   ]
  },
  {
   "cell_type": "markdown",
   "metadata": {
    "Collapsed": "false"
   },
   "source": [
    "Taking the constant $\\delta$ outside, we arrive at:\n",
    "$$\n",
    "\\delta _{max} = \\frac{1}{\\gamma_{opt}}\n",
    "$$\n",
    "\n",
    "where\n",
    "$$\n",
    "\\gamma_{opt} = \\inf_{Q \\in H_\\infty} || (s+1)N (X + DQ_c) || _{\\infty}\n",
    "$$"
   ]
  },
  {
   "cell_type": "code",
   "execution_count": null,
   "metadata": {
    "Collapsed": "false"
   },
   "outputs": [],
   "source": [
    "Taking the"
   ]
  }
 ],
 "metadata": {
  "kernelspec": {
   "display_name": "Python 3",
   "language": "python",
   "name": "python3"
  },
  "language_info": {
   "codemirror_mode": {
    "name": "ipython",
    "version": 3
   },
   "file_extension": ".py",
   "mimetype": "text/x-python",
   "name": "python",
   "nbconvert_exporter": "python",
   "pygments_lexer": "ipython3",
   "version": "3.7.4"
  }
 },
 "nbformat": 4,
 "nbformat_minor": 4
}
