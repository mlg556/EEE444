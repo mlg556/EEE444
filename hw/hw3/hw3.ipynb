{
 "cells": [
  {
   "cell_type": "code",
   "execution_count": 139,
   "metadata": {
    "Collapsed": "false"
   },
   "outputs": [
    {
     "name": "stdout",
     "output_type": "stream",
     "text": [
      "The ipydex.displaytools extension is already loaded. To reload it, use:\n",
      "  %reload_ext ipydex.displaytools\n"
     ]
    }
   ],
   "source": [
    "%load_ext ipydex.displaytools\n",
    "import sympy as sp\n",
    "\n",
    "from sympy import I as j\n",
    "from sympy import latex\n",
    "from sympy import gcdex"
   ]
  },
  {
   "cell_type": "markdown",
   "metadata": {
    "Collapsed": "false"
   },
   "source": [
    "# Problem 1"
   ]
  },
  {
   "cell_type": "markdown",
   "metadata": {
    "Collapsed": "true"
   },
   "source": [
    "## Part A"
   ]
  },
  {
   "cell_type": "code",
   "execution_count": 140,
   "metadata": {
    "Collapsed": "false"
   },
   "outputs": [],
   "source": [
    "s, k, Q = sp.symbols('s k Q')"
   ]
  },
  {
   "cell_type": "code",
   "execution_count": 141,
   "metadata": {
    "Collapsed": "false"
   },
   "outputs": [
    {
     "data": {
      "text/latex": [
       "P := $\\displaystyle \\frac{4 s - 8}{s^{2} - 2 s + 2}$"
      ],
      "text/plain": [
       "P := (4*s - 8)/(s**2 - 2*s + 2)"
      ]
     },
     "metadata": {},
     "output_type": "display_data"
    },
    {
     "name": "stdout",
     "output_type": "stream",
     "text": [
      "---\n"
     ]
    }
   ],
   "source": [
    "P = (4 * (s - 2)) / (s**2 - 2*s + 2) ##:"
   ]
  },
  {
   "cell_type": "markdown",
   "metadata": {
    "Collapsed": "false"
   },
   "source": [
    "Transform $P(s)$ to $\\bar{P}(k)$ under the mapping $s = \\frac{1-k}{k}$ "
   ]
  },
  {
   "cell_type": "code",
   "execution_count": 142,
   "metadata": {
    "Collapsed": "false"
   },
   "outputs": [
    {
     "data": {
      "text/latex": [
       "P_bar := $\\displaystyle - \\frac{12 k^{2} - 4 k}{5 k^{2} - 4 k + 1}$"
      ],
      "text/plain": [
       "P_bar := -(12*k**2 - 4*k)/(5*k**2 - 4*k + 1)"
      ]
     },
     "metadata": {},
     "output_type": "display_data"
    },
    {
     "name": "stdout",
     "output_type": "stream",
     "text": [
      "---\n"
     ]
    }
   ],
   "source": [
    "P_bar = P.subs({s: (1-k)/k}).factor().cancel() ##:"
   ]
  },
  {
   "cell_type": "code",
   "execution_count": 143,
   "metadata": {
    "Collapsed": "false"
   },
   "outputs": [
    {
     "data": {
      "text/latex": [
       "n := $\\displaystyle - 12 k^{2} + 4 k$"
      ],
      "text/plain": [
       "n := -12*k**2 + 4*k"
      ]
     },
     "metadata": {},
     "output_type": "display_data"
    },
    {
     "name": "stdout",
     "output_type": "stream",
     "text": [
      "---\n"
     ]
    },
    {
     "data": {
      "text/latex": [
       "d := $\\displaystyle 5 k^{2} - 4 k + 1$"
      ],
      "text/plain": [
       "d := 5*k**2 - 4*k + 1"
      ]
     },
     "metadata": {},
     "output_type": "display_data"
    },
    {
     "name": "stdout",
     "output_type": "stream",
     "text": [
      "---\n"
     ]
    }
   ],
   "source": [
    "# thus\n",
    "n = P_bar.as_numer_denom()[0] ##:\n",
    "d = P_bar.as_numer_denom()[1] ##:"
   ]
  },
  {
   "cell_type": "markdown",
   "metadata": {
    "Collapsed": "false"
   },
   "source": [
    "Using Euclid’s algorithm, find polynomials $x(k)$, $y(k)$ such that $nx + dy = 1$"
   ]
  },
  {
   "cell_type": "code",
   "execution_count": 144,
   "metadata": {
    "Collapsed": "false"
   },
   "outputs": [],
   "source": [
    "x, y, _ = gcdex(n.as_poly(), d.as_poly())"
   ]
  },
  {
   "cell_type": "code",
   "execution_count": 145,
   "metadata": {
    "Collapsed": "false"
   },
   "outputs": [
    {
     "data": {
      "text/latex": [
       "x := $\\displaystyle \\operatorname{Poly}{\\left( \\frac{35}{8} k -  \\frac{13}{8}, k, domain=\\mathbb{Q} \\right)}$"
      ],
      "text/plain": [
       "x := Poly(35/8*k - 13/8, k, domain='QQ')"
      ]
     },
     "metadata": {},
     "output_type": "display_data"
    },
    {
     "name": "stdout",
     "output_type": "stream",
     "text": [
      "---\n"
     ]
    },
    {
     "data": {
      "text/latex": [
       "y := $\\displaystyle \\operatorname{Poly}{\\left( \\frac{21}{2} k + 1, k, domain=\\mathbb{Q} \\right)}$"
      ],
      "text/plain": [
       "y := Poly(21/2*k + 1, k, domain='QQ')"
      ]
     },
     "metadata": {},
     "output_type": "display_data"
    },
    {
     "name": "stdout",
     "output_type": "stream",
     "text": [
      "---\n"
     ]
    }
   ],
   "source": [
    "x = x ##:\n",
    "y = y ##:"
   ]
  },
  {
   "cell_type": "code",
   "execution_count": 146,
   "metadata": {
    "Collapsed": "false"
   },
   "outputs": [
    {
     "data": {
      "text/latex": [
       "x := $\\displaystyle 4.375 k - 1.625$"
      ],
      "text/plain": [
       "x := 4.375*k - 1.625"
      ]
     },
     "metadata": {},
     "output_type": "display_data"
    },
    {
     "name": "stdout",
     "output_type": "stream",
     "text": [
      "---\n"
     ]
    },
    {
     "data": {
      "text/latex": [
       "y := $\\displaystyle 10.5 k + 1$"
      ],
      "text/plain": [
       "y := 10.5*k + 1"
      ]
     },
     "metadata": {},
     "output_type": "display_data"
    },
    {
     "name": "stdout",
     "output_type": "stream",
     "text": [
      "---\n"
     ]
    }
   ],
   "source": [
    "x = (35/8)*k - 13/8 ##:\n",
    "y = (21/2)*k + 1 ##:"
   ]
  },
  {
   "cell_type": "code",
   "execution_count": 147,
   "metadata": {
    "Collapsed": "false"
   },
   "outputs": [
    {
     "data": {
      "text/latex": [
       "N := $\\displaystyle \\frac{4 \\left(s - 2\\right)}{s^{2} + 2 s + 1}$"
      ],
      "text/plain": [
       "N := 4*(s - 2)/(s**2 + 2*s + 1)"
      ]
     },
     "metadata": {},
     "output_type": "display_data"
    },
    {
     "name": "stdout",
     "output_type": "stream",
     "text": [
      "---\n"
     ]
    },
    {
     "data": {
      "text/latex": [
       "D := $\\displaystyle \\frac{s^{2} - 2 s + 2}{s^{2} + 2 s + 1}$"
      ],
      "text/plain": [
       "D := (s**2 - 2*s + 2)/(s**2 + 2*s + 1)"
      ]
     },
     "metadata": {},
     "output_type": "display_data"
    },
    {
     "name": "stdout",
     "output_type": "stream",
     "text": [
      "---\n"
     ]
    },
    {
     "data": {
      "text/latex": [
       "X := $\\displaystyle \\frac{2.75 - 1.625 s}{s + 1}$"
      ],
      "text/plain": [
       "X := (2.75 - 1.625*s)/(s + 1)"
      ]
     },
     "metadata": {},
     "output_type": "display_data"
    },
    {
     "name": "stdout",
     "output_type": "stream",
     "text": [
      "---\n"
     ]
    },
    {
     "data": {
      "text/latex": [
       "Y := $\\displaystyle \\frac{s + 11.5}{s + 1}$"
      ],
      "text/plain": [
       "Y := (s + 11.5)/(s + 1)"
      ]
     },
     "metadata": {},
     "output_type": "display_data"
    },
    {
     "name": "stdout",
     "output_type": "stream",
     "text": [
      "---\n"
     ]
    }
   ],
   "source": [
    "N = n.subs({k: 1/(s+1)}).simplify() ##:\n",
    "D = d.subs({k: 1/(s+1)}).simplify() ##:\n",
    "\n",
    "X = x.subs({k: 1/(s+1)}).simplify() ##:\n",
    "Y = y.subs({k: 1/(s+1)}).simplify() ##:"
   ]
  },
  {
   "cell_type": "code",
   "execution_count": 148,
   "metadata": {
    "Collapsed": "false"
   },
   "outputs": [
    {
     "data": {
      "text/latex": [
       "_C := $\\displaystyle \\frac{\\frac{Q \\left(s^{2} - 2 s + 2\\right)}{s^{2} + 2 s + 1} + \\frac{2.75 - 1.625 s}{s + 1}}{- \\frac{4 Q \\left(s - 2\\right)}{s^{2} + 2 s + 1} + \\frac{s + 11.5}{s + 1}}$"
      ],
      "text/plain": [
       "_C := (Q*(s**2 - 2*s + 2)/(s**2 + 2*s + 1) + (2.75 - 1.625*s)/(s + 1))/(-4*Q*(s - 2)/(s**2 + 2*s + 1) + (s + 11.5)/(s + 1))"
      ]
     },
     "metadata": {},
     "output_type": "display_data"
    },
    {
     "name": "stdout",
     "output_type": "stream",
     "text": [
      "---\n"
     ]
    },
    {
     "data": {
      "text/latex": [
       "C := $\\displaystyle \\frac{Q \\left(1.0 s^{2} - 2.0 s + 2.0\\right) - 1.625 s^{2} + 1.125 s + 2.75}{Q \\left(8.0 - 4.0 s\\right) + 1.0 s^{2} + 12.5 s + 11.5}$"
      ],
      "text/plain": [
       "C := (Q*(1.0*s**2 - 2.0*s + 2.0) - 1.625*s**2 + 1.125*s + 2.75)/(Q*(8.0 - 4.0*s) + 1.0*s**2 + 12.5*s + 11.5)"
      ]
     },
     "metadata": {},
     "output_type": "display_data"
    },
    {
     "name": "stdout",
     "output_type": "stream",
     "text": [
      "---\n"
     ]
    }
   ],
   "source": [
    "# by the Youla-Kucera parametrization theorem:\n",
    "_C = (X + D*Q) / (Y - N*Q) ##:\n",
    "C = _C.cancel().simplify().collect(Q) ##:"
   ]
  },
  {
   "cell_type": "markdown",
   "metadata": {
    "Collapsed": "true"
   },
   "source": [
    "## Part B"
   ]
  },
  {
   "cell_type": "markdown",
   "metadata": {
    "Collapsed": "false"
   },
   "source": [
    "The steady state performance conditions state that:\n",
    "* for $R(s) = \\frac{1}{s}$, $e_{ss} = 0$ &rarr; $C$ has a pole at $s=0$\n",
    "* for $r(t) = sin(3t), R(s) = \\frac{3}{s^2 + 9}$, $e_{ss} = 0$ &rarr; $C$ has poles at $s=\\pm 3j$\n",
    "\n",
    "Let us define the denominator of $C$: $Y - NQ$ as $\\Psi(s)$, then we have the three conditions:\n",
    "* $\\Psi(0) = 0$\n",
    "* $\\Psi(3j) = 0$\n",
    "* $\\Psi(-3j) = 0$\n",
    "\n",
    "And Q must be in the form\n",
    "$$\n",
    "Q(s) = \\frac{q_2s^2 + q_1s + q_0}{(s+3)^2}\n",
    "$$"
   ]
  },
  {
   "cell_type": "markdown",
   "metadata": {
    "Collapsed": "false"
   },
   "source": [
    "we solve these three equations with three unknowns $q_2, q_1, q_0$ as follows.\n",
    "\n",
    "$$\n",
    "\\begin{gathered}\n",
    "\\Psi(s) =& - \\frac{4 \\left(s - 2\\right) \\left(q_{0} + q_{1} s + q_{2} s^{2}\\right)}{\\left(s + 3\\right)^{2} \\left(s^{2} + 2 s + 1\\right)} + \\frac{s + 11.5}{s + 1} \\\\\n",
    "\\Psi(0) =& \\frac{8 q_{0}}{9} + 11.5 = 0 \\\\\n",
    "\\Psi(3j) =& - \\frac{\\left(-8 - 6 i\\right) \\left(-2 + 3 i\\right) \\left(q_{0} + 3 i q_{1} - 9 q_{2}\\right)}{25 \\left(3 + 3 i\\right)^{2}} + \\frac{\\left(1 - 3 i\\right) \\left(11.5 + 3 i\\right)}{10} = 0\\\\\n",
    "\\Psi(-3j) =& - \\frac{\\left(-8 + 6 i\\right) \\left(-2 - 3 i\\right) \\left(q_{0} - 3 i q_{1} - 9 q_{2}\\right)}{25 \\left(3 - 3 i\\right)^{2}} + \\frac{\\left(1 + 3 i\\right) \\left(11.5 - 3 i\\right)}{10} = 0\n",
    "\\end{gathered}\n",
    "$$"
   ]
  },
  {
   "cell_type": "markdown",
   "metadata": {
    "Collapsed": "false"
   },
   "source": [
    "The solutions are\n",
    "$$\n",
    "q_0: -12.9375, \\quad q_1 = 12.4038, \\quad q_2 = -4.61058\n",
    "$$\n",
    "\n",
    "Thus,\n",
    "$$\n",
    "Q(s) = \\frac{- 4.61058 s^{2} + 12.4038 s - 12.9375}{\\left(s + 3\\right)^{2}}\n",
    "$$\n",
    "\n",
    "Plugging this $Q(s)$ to the equation for the controller $C$, we finally arrive at:\n",
    "$$\n",
    "C(s) = - \\frac{6.236 s^{6} + 24.41 s^{5} + 30.21 s^{4} + 118.2 s^{3} + 6.101 s^{2} - 689 s + 10.13}{s^{6} + 42.94 s^{5} + 239.7 s^{4} + 719 s^{3} + 2076 s^{2} + 2992 s}\n",
    "$$"
   ]
  },
  {
   "cell_type": "code",
   "execution_count": 149,
   "metadata": {
    "Collapsed": "false"
   },
   "outputs": [],
   "source": [
    "q0, q1, q2 = sp.symbols('q0 q1 q2')"
   ]
  },
  {
   "cell_type": "code",
   "execution_count": 150,
   "metadata": {
    "Collapsed": "false"
   },
   "outputs": [
    {
     "data": {
      "text/latex": [
       "Q_ := $\\displaystyle \\frac{q_{0} + q_{1} s + q_{2} s^{2}}{\\left(s + 3\\right)^{2}}$"
      ],
      "text/plain": [
       "Q_ := (q0 + q1*s + q2*s**2)/(s + 3)**2"
      ]
     },
     "metadata": {},
     "output_type": "display_data"
    },
    {
     "name": "stdout",
     "output_type": "stream",
     "text": [
      "---\n"
     ]
    }
   ],
   "source": [
    "Q_ = (q2*s**2 + q1*s + q0) / ((s+3)**2) ##:"
   ]
  },
  {
   "cell_type": "code",
   "execution_count": 151,
   "metadata": {
    "Collapsed": "false"
   },
   "outputs": [
    {
     "data": {
      "text/latex": [
       "Psi := $\\displaystyle - \\frac{4 \\left(s - 2\\right) \\left(q_{0} + q_{1} s + q_{2} s^{2}\\right)}{\\left(s + 3\\right)^{2} \\left(s^{2} + 2 s + 1\\right)} + \\frac{s + 11.5}{s + 1}$"
      ],
      "text/plain": [
       "Psi := -4*(s - 2)*(q0 + q1*s + q2*s**2)/((s + 3)**2*(s**2 + 2*s + 1)) + (s + 11.5)/(s + 1)"
      ]
     },
     "metadata": {},
     "output_type": "display_data"
    },
    {
     "name": "stdout",
     "output_type": "stream",
     "text": [
      "---\n"
     ]
    }
   ],
   "source": [
    "Psi = Y - N*Q_ ##:"
   ]
  },
  {
   "cell_type": "code",
   "execution_count": 152,
   "metadata": {
    "Collapsed": "false"
   },
   "outputs": [
    {
     "data": {
      "text/latex": [
       "eq1 := $\\displaystyle \\frac{8 q_{0}}{9} + 11.5$"
      ],
      "text/plain": [
       "eq1 := 8*q0/9 + 11.5"
      ]
     },
     "metadata": {},
     "output_type": "display_data"
    },
    {
     "name": "stdout",
     "output_type": "stream",
     "text": [
      "---\n"
     ]
    },
    {
     "data": {
      "text/latex": [
       "eq2 := $\\displaystyle - \\frac{\\left(-8 - 6 i\\right) \\left(-2 + 3 i\\right) \\left(q_{0} + 3 i q_{1} - 9 q_{2}\\right)}{25 \\left(3 + 3 i\\right)^{2}} + \\frac{\\left(1 - 3 i\\right) \\left(11.5 + 3 i\\right)}{10}$"
      ],
      "text/plain": [
       "eq2 := -(-8 - 6*I)*(-2 + 3*I)*(q0 + 3*I*q1 - 9*q2)/(25*(3 + 3*I)**2) + (1 - 3*I)*(11.5 + 3*I)/10"
      ]
     },
     "metadata": {},
     "output_type": "display_data"
    },
    {
     "name": "stdout",
     "output_type": "stream",
     "text": [
      "---\n"
     ]
    },
    {
     "data": {
      "text/latex": [
       "eq3 := $\\displaystyle - \\frac{\\left(-8 + 6 i\\right) \\left(-2 - 3 i\\right) \\left(q_{0} - 3 i q_{1} - 9 q_{2}\\right)}{25 \\left(3 - 3 i\\right)^{2}} + \\frac{\\left(1 + 3 i\\right) \\left(11.5 - 3 i\\right)}{10}$"
      ],
      "text/plain": [
       "eq3 := -(-8 + 6*I)*(-2 - 3*I)*(q0 - 3*I*q1 - 9*q2)/(25*(3 - 3*I)**2) + (1 + 3*I)*(11.5 - 3*I)/10"
      ]
     },
     "metadata": {},
     "output_type": "display_data"
    },
    {
     "name": "stdout",
     "output_type": "stream",
     "text": [
      "---\n"
     ]
    }
   ],
   "source": [
    "eq1 = Psi.subs({s: 0}) ##:\n",
    "eq2 = Psi.subs({s: 3*j}) ##:\n",
    "eq3 = Psi.subs({s: -3*j}) ##:"
   ]
  },
  {
   "cell_type": "code",
   "execution_count": 153,
   "metadata": {
    "Collapsed": "false"
   },
   "outputs": [
    {
     "data": {
      "text/plain": [
       "sol := {q0: -12.9375000000000, q1: 12.4038461538462, q2: -4.61057692307692}"
      ]
     },
     "metadata": {},
     "output_type": "display_data"
    },
    {
     "name": "stdout",
     "output_type": "stream",
     "text": [
      "---\n"
     ]
    }
   ],
   "source": [
    "sol = sp.solve([eq1, eq2, eq3], [q0, q1, q2]) ##:"
   ]
  },
  {
   "cell_type": "code",
   "execution_count": 154,
   "metadata": {
    "Collapsed": "false"
   },
   "outputs": [
    {
     "data": {
      "text/latex": [
       "Q_sol := $\\displaystyle \\frac{- 4.61058 s^{2} + 12.4038 s - 12.9375}{\\left(s + 3\\right)^{2}}$"
      ],
      "text/plain": [
       "Q_sol := (-4.61058*s**2 + 12.4038*s - 12.9375)/(s + 3)**2"
      ]
     },
     "metadata": {},
     "output_type": "display_data"
    },
    {
     "name": "stdout",
     "output_type": "stream",
     "text": [
      "---\n"
     ]
    }
   ],
   "source": [
    "Q_sol = Q_.subs({q0: -12.9375, q1: 12.4038, q2: -4.61058}) ##:"
   ]
  },
  {
   "cell_type": "code",
   "execution_count": 155,
   "metadata": {
    "Collapsed": "false"
   },
   "outputs": [
    {
     "data": {
      "text/latex": [
       "$\\displaystyle \\frac{Q \\left(1.0 s^{2} - 2.0 s + 2.0\\right) - 1.625 s^{2} + 1.125 s + 2.75}{Q \\left(8.0 - 4.0 s\\right) + 1.0 s^{2} + 12.5 s + 11.5}$"
      ],
      "text/plain": [
       "(Q*(1.0*s**2 - 2.0*s + 2.0) - 1.625*s**2 + 1.125*s + 2.75)/(Q*(8.0 - 4.0*s) + 1.0*s**2 + 12.5*s + 11.5)"
      ]
     },
     "execution_count": 155,
     "metadata": {},
     "output_type": "execute_result"
    }
   ],
   "source": [
    "C"
   ]
  },
  {
   "cell_type": "code",
   "execution_count": 156,
   "metadata": {
    "Collapsed": "false"
   },
   "outputs": [
    {
     "data": {
      "text/latex": [
       "C_sol := $\\displaystyle \\frac{- 6.236 s^{6} - 24.41 s^{5} - 30.21 s^{4} - 118.2 s^{3} - 6.101 s^{2} + 689.0 s - 10.13}{1.0 s^{6} + 42.94 s^{5} + 239.7 s^{4} + 719.0 s^{3} + 2076.0 s^{2} + 2992.0 s}$"
      ],
      "text/plain": [
       "C_sol := (-6.236*s**6 - 24.41*s**5 - 30.21*s**4 - 118.2*s**3 - 6.101*s**2 + 689.0*s - 10.13)/(1.0*s**6 + 42.94*s**5 + 239.7*s**4 + 719.0*s**3 + 2076.0*s**2 + 2992.0*s)"
      ]
     },
     "metadata": {},
     "output_type": "display_data"
    },
    {
     "name": "stdout",
     "output_type": "stream",
     "text": [
      "---\n"
     ]
    }
   ],
   "source": [
    "C_ = sp.N(C.subs(Q, Q_sol).cancel().collect(s), 4)\n",
    "C_sol = C_.as_numer_denom()[0] / C_.as_numer_denom()[1] ##:"
   ]
  },
  {
   "cell_type": "code",
   "execution_count": 157,
   "metadata": {
    "Collapsed": "false"
   },
   "outputs": [
    {
     "name": "stdout",
     "output_type": "stream",
     "text": [
      "\\frac{- 6.236 s^{6} - 24.41 s^{5} - 30.21 s^{4} - 118.2 s^{3} - 6.101 s^{2} + 689.0 s - 10.13}{1.0 s^{6} + 42.94 s^{5} + 239.7 s^{4} + 719.0 s^{3} + 2076.0 s^{2} + 2992.0 s}\n"
     ]
    }
   ],
   "source": [
    "print(latex(C_sol))"
   ]
  },
  {
   "cell_type": "code",
   "execution_count": null,
   "metadata": {
    "Collapsed": "false"
   },
   "outputs": [],
   "source": []
  },
  {
   "cell_type": "markdown",
   "metadata": {
    "Collapsed": "false"
   },
   "source": [
    "# Problem 2"
   ]
  },
  {
   "cell_type": "markdown",
   "metadata": {
    "Collapsed": "false"
   },
   "source": [
    "## Part 1"
   ]
  },
  {
   "cell_type": "markdown",
   "metadata": {
    "Collapsed": "false"
   },
   "source": [
    "From Problem 1 we have:\n",
    "$$\n",
    "\\begin{gathered}\n",
    "N(s) = \\frac{4 \\left(s - 2\\right)}{s^{2} + 2 s + 1}, \\quad D(s) = \\frac{s^{2} - 2 s + 2}{s^{2} + 2 s + 1} \\\\\n",
    "X(s) = \\frac{2.75 - 1.625 s}{s + 1}, \\quad Y(s) = \\frac{s + 11.5}{s + 1}\n",
    "\\end{gathered}\n",
    "$$\n",
    "\n",
    "We know that the robust stability condition requires:\n",
    "$$\n",
    "|| W_m T||_{\\infty} \\leq 1\n",
    "$$\n",
    "\n",
    "where $W_m$ is the multiplicative uncertainity bound and $T$ is the complementary sensitivity function. It is given that $W_m = \\delta (s+1)$. We also know that $T = N(X + DQ)$. Thus the robust stability condition becomes:\n",
    "\n",
    "$$\n",
    "|| \\delta (s+1) N (X + DQ_c) || _{\\infty} \\leq 1\n",
    "$$\n",
    "\n",
    "Taking the constant $\\delta$ outside, we arrive at:\n",
    "$$\n",
    "\\delta _{max} = \\frac{1}{\\gamma_{opt}}\n",
    "$$\n",
    "\n",
    "where\n",
    "$$\n",
    "\\gamma_{opt} = \\inf_{Q \\in H_\\infty} || (s+1)N (X + DQ_c) || _{\\infty}\n",
    "$$"
   ]
  },
  {
   "cell_type": "markdown",
   "metadata": {
    "Collapsed": "false"
   },
   "source": [
    "We then transform this expression to the form:\n",
    "$$\n",
    "\\gamma_{opt} = \\inf_{Q \\in H_\\infty} || W - MQ || _{\\infty}\n",
    "$$\n",
    "\n",
    "using inner-outer factorization, after the necessary computations we arrive at:\n",
    "$$\n",
    "M(s) = \\frac{s^{2} - 2 s + 2}{s^{2} + 2 s + 1}, \\quad W(s) = \\frac{4 \\left(2.75 - 1.625 s\\right) \\left(s - 2\\right)}{s^{2} + 2 s + 1}, \\quad Q(s) = Q_c(s)\\frac{-4(s-2)}{s+1}\n",
    "$$\n",
    "\n",
    "\n",
    "To solve this using the _Nevallina-Pick interpolation_, we must construct the vectors $a$ and $b$. The vector $a$ is the zeros of $M$, which are $(1 \\pm j)$. Thus $a = [\\alpha_1, \\alpha_2] = [1 + j, 1- j]$. The `b` vector is the value of $W$ at these points, thus $b = [W(\\alpha_1), W(\\alpha_2)] = [2+j, 2-j]$. Plugging these values into the script `NevPickNew.m`, with\n",
    "\n",
    "```\n",
    ">> a = [1+j, 1-j]; b = [2+j, 2-j];\n",
    ">> [gopt, Qopt] = NevPickNew(a,b)\n",
    "```\n",
    "\n",
    "yields the results:\n",
    "$$\n",
    "\\gamma_{opt} = 3.4495, \\quad Q_{opt}(s) = \\frac{3.4495 (s - 0.4495)}{s + 0.4495}\n",
    "$$"
   ]
  },
  {
   "cell_type": "markdown",
   "metadata": {
    "Collapsed": "false"
   },
   "source": [
    "Thus,\n",
    "$$\n",
    "Qc_{opt} = Q_{opt}\\frac{s+1}{-4(s-2)} = - \\frac{\\left(s + 1\\right) \\left(3.4495 s - 1.55055025\\right)}{\\left(s + 0.4495\\right) \\left(4 s - 8\\right)}\n",
    "$$"
   ]
  },
  {
   "cell_type": "markdown",
   "metadata": {
    "Collapsed": "false"
   },
   "source": [
    "Substituting this value of $Qc_{opt}$ in the expression for the controller $C$ yields:\n",
    "$$\n",
    "C(s) = \\frac{X + DQ_c}{Y - NQ_c} = \\frac{1.82 s^{3} - 8.05 s^{2} + 13.3 s - 1.86}{s^{3} - 0.849 s^{2} + 50.9 s - 7.24}\n",
    "$$"
   ]
  },
  {
   "cell_type": "code",
   "execution_count": 158,
   "metadata": {
    "Collapsed": "false"
   },
   "outputs": [],
   "source": [
    "Q_c = sp.symbols('Q_c')"
   ]
  },
  {
   "cell_type": "code",
   "execution_count": 159,
   "metadata": {
    "Collapsed": "false"
   },
   "outputs": [
    {
     "data": {
      "text/latex": [
       "W := $\\displaystyle \\frac{4 \\left(2.75 - 1.625 s\\right) \\left(s - 2\\right)}{s^{2} + 2 s + 1}$"
      ],
      "text/plain": [
       "W := 4*(2.75 - 1.625*s)*(s - 2)/(s**2 + 2*s + 1)"
      ]
     },
     "metadata": {},
     "output_type": "display_data"
    },
    {
     "name": "stdout",
     "output_type": "stream",
     "text": [
      "---\n"
     ]
    }
   ],
   "source": [
    "W = (s+1)*X*N.collect(s) ##:"
   ]
  },
  {
   "cell_type": "code",
   "execution_count": 160,
   "metadata": {
    "Collapsed": "false"
   },
   "outputs": [
    {
     "data": {
      "text/latex": [
       "$\\displaystyle 2.0 - 1.0 i$"
      ],
      "text/plain": [
       "2.0 - 1.0*I"
      ]
     },
     "execution_count": 160,
     "metadata": {},
     "output_type": "execute_result"
    }
   ],
   "source": [
    "W.subs(s, 1-j).simplify()"
   ]
  },
  {
   "cell_type": "code",
   "execution_count": 161,
   "metadata": {
    "Collapsed": "false"
   },
   "outputs": [
    {
     "data": {
      "text/latex": [
       "term2 := $\\displaystyle \\frac{4 Q_{c} \\left(s - 2\\right) \\left(s^{2} - 2 s + 2\\right)}{\\left(s + 1\\right) \\left(s^{2} + 2 s + 1\\right)}$"
      ],
      "text/plain": [
       "term2 := 4*Q_c*(s - 2)*(s**2 - 2*s + 2)/((s + 1)*(s**2 + 2*s + 1))"
      ]
     },
     "metadata": {},
     "output_type": "display_data"
    },
    {
     "name": "stdout",
     "output_type": "stream",
     "text": [
      "---\n"
     ]
    }
   ],
   "source": [
    "term2 = (s+1)*N*(D*Q_c).factor() ##:"
   ]
  },
  {
   "cell_type": "code",
   "execution_count": 162,
   "metadata": {
    "Collapsed": "false"
   },
   "outputs": [
    {
     "data": {
      "text/latex": [
       "M := $\\displaystyle \\frac{s^{2} - 2 s + 2}{s^{2} + 2 s + 1}$"
      ],
      "text/plain": [
       "M := (s**2 - 2*s + 2)/(s**2 + 2*s + 1)"
      ]
     },
     "metadata": {},
     "output_type": "display_data"
    },
    {
     "name": "stdout",
     "output_type": "stream",
     "text": [
      "---\n"
     ]
    }
   ],
   "source": [
    "M = (s**2 - 2*s + 2) / (s**2 + 2*s + 1) ##:"
   ]
  },
  {
   "cell_type": "code",
   "execution_count": 119,
   "metadata": {
    "Collapsed": "false"
   },
   "outputs": [
    {
     "data": {
      "text/latex": [
       "Q_opt := $\\displaystyle \\frac{3.4495 s - 1.55055025}{s + 0.4495}$"
      ],
      "text/plain": [
       "Q_opt := (3.4495*s - 1.55055025)/(s + 0.4495)"
      ]
     },
     "metadata": {},
     "output_type": "display_data"
    },
    {
     "name": "stdout",
     "output_type": "stream",
     "text": [
      "---\n"
     ]
    }
   ],
   "source": [
    "Q_opt = (3.4495*(s - 0.4495)) / (s + 0.4495) ##:"
   ]
  },
  {
   "cell_type": "code",
   "execution_count": 122,
   "metadata": {
    "Collapsed": "false"
   },
   "outputs": [
    {
     "data": {
      "text/latex": [
       "Q_copt := $\\displaystyle - \\frac{\\left(s + 1\\right) \\left(3.4495 s - 1.55055025\\right)}{\\left(s + 0.4495\\right) \\left(4 s - 8\\right)}$"
      ],
      "text/plain": [
       "Q_copt := -(s + 1)*(3.4495*s - 1.55055025)/((s + 0.4495)*(4*s - 8))"
      ]
     },
     "metadata": {},
     "output_type": "display_data"
    },
    {
     "name": "stdout",
     "output_type": "stream",
     "text": [
      "---\n"
     ]
    }
   ],
   "source": [
    "Q_copt = Q_opt * ((s+1)/(-4*(s-2))).cancel() ##:"
   ]
  },
  {
   "cell_type": "code",
   "execution_count": 163,
   "metadata": {
    "Collapsed": "false"
   },
   "outputs": [
    {
     "data": {
      "text/latex": [
       "Copt := $\\displaystyle \\frac{- 9.95 s^{4} + 19.6 s^{3} + 8.32 s^{2} - 28.0 s - 6.79}{4.0 s^{4} + 57.6 s^{3} - 55.1 s^{2} - 138.0 s - 28.9}$"
      ],
      "text/plain": [
       "Copt := (-9.95*s**4 + 19.6*s**3 + 8.32*s**2 - 28.0*s - 6.79)/(4.0*s**4 + 57.6*s**3 - 55.1*s**2 - 138.0*s - 28.9)"
      ]
     },
     "metadata": {},
     "output_type": "display_data"
    },
    {
     "name": "stdout",
     "output_type": "stream",
     "text": [
      "---\n"
     ]
    }
   ],
   "source": [
    "Q = sp.symbols('Q')\n",
    "Copt = sp.N(C.subs(Q, Q_copt).simplify(), 3) ##:"
   ]
  },
  {
   "cell_type": "code",
   "execution_count": 164,
   "metadata": {
    "Collapsed": "false"
   },
   "outputs": [
    {
     "name": "stdout",
     "output_type": "stream",
     "text": [
      "\\frac{- 9.95 s^{4} + 19.6 s^{3} + 8.32 s^{2} - 28.0 s - 6.79}{4.0 s^{4} + 57.6 s^{3} - 55.1 s^{2} - 138.0 s - 28.9}\n"
     ]
    }
   ],
   "source": [
    "print(latex(Copt))"
   ]
  },
  {
   "cell_type": "code",
   "execution_count": null,
   "metadata": {
    "Collapsed": "false"
   },
   "outputs": [],
   "source": []
  }
 ],
 "metadata": {
  "kernelspec": {
   "display_name": "Python 3",
   "language": "python",
   "name": "python3"
  },
  "language_info": {
   "codemirror_mode": {
    "name": "ipython",
    "version": 3
   },
   "file_extension": ".py",
   "mimetype": "text/x-python",
   "name": "python",
   "nbconvert_exporter": "python",
   "pygments_lexer": "ipython3",
   "version": "3.7.4"
  }
 },
 "nbformat": 4,
 "nbformat_minor": 4
}
